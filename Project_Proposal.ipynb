{
 "cells": [
  {
   "cell_type": "markdown",
   "metadata": {},
   "source": [
    "# Project Proposal\n",
    "## Maya Fleming, Nelly Alger\n",
    "\n",
    "### Dataset Description:\n",
    "* **Source**: Kaggle https://www.kaggle.com/datasets/fedesoriano/stroke-prediction-dataset\n",
    "* **Format**: csv file\n",
    "* **Contents**: This dataset is used to predict whether a patient is likely to get stroke based on the input parameters like gender, age, various diseases, and smoking status.\n",
    "* **Attribute description**:  \n",
    "    * id: unique identifier\n",
    "    * gender: \"Male\", \"Female\" or \"Other\"\n",
    "    * age: age of the patient\n",
    "    * hypertension: 0 if the patient doesn't have hypertension, 1 if the patient has hypertension\n",
    "    * heart_disease: 0 if the patient doesn't have any heart diseases, 1 if the patient has a heart disease\n",
    "    * ever_married: \"No\" or \"Yes\"\n",
    "    * work_type: \"children\", \"Govt_jov\", \"Never_worked\", \"Private\" or \"Self-employed\"\n",
    "    * Residence_type: \"Rural\" or \"Urban\"\n",
    "    * avg_glucose_level: average glucose level in blood\n",
    "    * bmi: body mass index\n",
    "    * smoking_status: \"formerly smoked\", \"never smoked\", \"smokes\" or \"Unknown\"*\n",
    "    * stroke: 1 if the patient had a stroke or 0 if not\n",
    "    * Note: \"Unknown\" in smoking_status means that the information is unavailable for this patient\n",
    "\n",
    "### Implementation\n",
    "**Anticipated challenges**: \n",
    "* The attributes are both numerical and categorical so there will be some required cleaning. We will also need to discretize of the some attributes for naive bayes classification and decision tree.\n",
    "* There are 12 attributes in this dataset which will require us to decide which ones are the most relevant to the classification. Looking through all the attributes, I think there are some stand outs where some will be more relevant to the dataset than others.\n",
    "\n",
    "### Results Impact\n",
    "* These results will be useful because it provides patterns that humans are able to look at and/or could use for research purposes relating to stroke. The dataset includes several different attributes relating to a stroke, which people can use to compare themselves to it or for the future.\n",
    "* The stakeholders in these results are people prone to strokes, people who don't have strokes very often, or even research groups. The ones prone to strokes could use these results as an explanation of why they are having the strokes. Similarly, the people who don't have strokes very often could use this as an explanation for why. Lastly, research groups could use this information to map out the different attributes that go along with strokes and the ones that don't."
   ]
  }
 ],
 "metadata": {
  "language_info": {
   "name": "python"
  },
  "orig_nbformat": 4
 },
 "nbformat": 4,
 "nbformat_minor": 2
}
