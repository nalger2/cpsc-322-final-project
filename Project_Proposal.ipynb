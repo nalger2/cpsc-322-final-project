{
 "cells": [
  {
   "cell_type": "markdown",
   "metadata": {},
   "source": [
    "# Project Proposal\n",
    "## Maya Fleming, Nelly Alger\n",
    "\n",
    "### Dataset Description:\n",
    "* **Source**: Kaggle https://www.kaggle.com/datasets/laavanya/human-stress-detection-in-and-through-sleep\n",
    "* **Format**: csv file\n",
    "* **Contents**: This dataset provides sleep information and stress levels in order to see\n",
    "how sleep affects stress.\n",
    "* **Attribute description**:  \n",
    "    * snoring range\n",
    "    * respiration rate\n",
    "    * body temperature\n",
    "    * limb movement\n",
    "    * blood oxygen levels\n",
    "    * eye movement\n",
    "    * number of hours of sleep\n",
    "    * heart rate\n",
    "    * stress levels \n",
    "* class attribute:\n",
    "    * stress levels - categorical attribute from 1 (low) to 4 (high)\n",
    "\n",
    "### Implementation\n",
    "**anticipated challenges**: \n",
    "* all of the attributes are numerical, meaning there won't be much cleaning necessary, but we will have to discretize attributes for decision tree and naive bayes classification\n",
    "* there are 4 possible class labels, making it more difficult than binary classification\n",
    "* there are a lot of attributes so it will be difficult to discern which would be best to use for classification, or if we should use them all\n",
    "\n",
    "### Results Impact\n",
    "* useful how?\n",
    "* stakeholders"
   ]
  },
  {
   "cell_type": "markdown",
   "metadata": {},
   "source": []
  }
 ],
 "metadata": {
  "language_info": {
   "name": "python"
  },
  "orig_nbformat": 4
 },
 "nbformat": 4,
 "nbformat_minor": 2
}
