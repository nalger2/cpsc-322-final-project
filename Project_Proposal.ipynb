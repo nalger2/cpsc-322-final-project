{
 "cells": [
  {
   "cell_type": "markdown",
   "metadata": {},
   "source": [
    "# Project Proposal\n",
    "## Maya Fleming, Nelly Alger\n",
    "\n",
    "### Dataset Description:\n",
    "* source\n",
    "* format\n",
    "* contents\n",
    "* attribute description\n",
    "* class attribute:\n",
    "\n",
    "### Implementation\n",
    "* anticipated challenges\n",
    "* paring down attributes\n",
    "\n",
    "### Results Impact\n",
    "* useful how?\n",
    "* stakeholders"
   ]
  }
 ],
 "metadata": {
  "language_info": {
   "name": "python"
  },
  "orig_nbformat": 4
 },
 "nbformat": 4,
 "nbformat_minor": 2
}
