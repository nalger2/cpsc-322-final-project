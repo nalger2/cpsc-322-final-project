{
 "cells": [
  {
   "cell_type": "markdown",
   "metadata": {},
   "source": [
    "# Project Proposal\n",
    "## Maya Fleming, Nelly Alger\n",
    "\n",
    "### Dataset Description:\n",
    "* **Source**: Kaggle https://www.kaggle.com/datasets/fedesoriano/stroke-prediction-dataset\n",
    "* **Format**: csv file\n",
    "* **Contents**: This dataset is used to predict whether a patient is likely to get stroke based on the input parameters like gender, age, various diseases, and smoking status.\n",
    "* **Attribute description**:  \n",
    "    * id: unique identifier\n",
    "    * gender: \"Male\", \"Female\" or \"Other\"\n",
    "    * age: age of the patient\n",
    "    * hypertension: 0 if the patient doesn't have hypertension, 1 if the patient has hypertension\n",
    "    * heart_disease: 0 if the patient doesn't have any heart diseases, 1 if the patient has a heart disease\n",
    "    * ever_married: \"No\" or \"Yes\"\n",
    "    * work_type: \"children\", \"Govt_jov\", \"Never_worked\", \"Private\" or \"Self-employed\"\n",
    "    * Residence_type: \"Rural\" or \"Urban\"\n",
    "    * avg_glucose_level: average glucose level in blood\n",
    "    * bmi: body mass index\n",
    "    * smoking_status: \"formerly smoked\", \"never smoked\", \"smokes\" or \"Unknown\"*\n",
    "    * stroke: 1 if the patient had a stroke or 0 if not\n",
    "    * Note: \"Unknown\" in smoking_status means that the information is unavailable for this patient\n",
    "\n",
    "### Implementation\n",
    "**anticipated challenges**: \n",
    "* all of the attributes are numerical, meaning there won't be much cleaning necessary, but we will have to discretize attributes for decision tree and naive bayes classification\n",
    "* there are 4 possible class labels, making it more difficult than binary classification\n",
    "* there are a lot of attributes so it will be difficult to discern which would be best to use for classification, or if we should use them all\n",
    "\n",
    "### Results Impact\n",
    "* These results will be useful because it will help us understand the relationship between stress and sleep. Several people forget the benefits that sleep provides for the human body, so having this data will help us determine why and how sleeping helps our body.\n",
    "* I think that the stakeholders that would be interested in these results would be everyone, but more specificaly the people that have existing sleep issues. They would be interested in this data because they would be able to look over all the different data collected when they sleep and have a conclusive reason of why they have been having trouble sleeping."
   ]
  }
 ],
 "metadata": {
  "language_info": {
   "name": "python"
  },
  "orig_nbformat": 4
 },
 "nbformat": 4,
 "nbformat_minor": 2
}
