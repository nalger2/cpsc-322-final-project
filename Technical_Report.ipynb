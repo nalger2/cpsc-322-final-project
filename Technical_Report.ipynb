{
 "cells": [
  {
   "cell_type": "markdown",
   "metadata": {},
   "source": [
    "# Introduction"
   ]
  },
  {
   "cell_type": "markdown",
   "metadata": {},
   "source": [
    "# Data Analysis\n"
   ]
  },
  {
   "cell_type": "code",
   "execution_count": 10,
   "metadata": {},
   "outputs": [
    {
     "name": "stdout",
     "output_type": "stream",
     "text": [
      "length before 'NA' values removed: 5110\n",
      "length after 'NA' values removed: 4909\n",
      "amount of non-strokes with no 'NA' rows: 4700\n",
      "amount of strokes with no 'NA' rows: 209\n",
      "num of strokes with unknown smoking status: 29\n",
      "length of downsized non-stroke data: 791\n",
      "length of all downsized data: 1000\n",
      "length of final_data 1000\n",
      "-----SAVED DOWNSIZED DATA-----\n",
      "non-stroke amount: 791\n",
      "stroke amount: 209\n",
      "-----saved discretized columns-----\n",
      "-----saved numerical final data-----\n"
     ]
    }
   ],
   "source": [
    "import importlib\n",
    "import data_cleaning_work\n",
    "importlib.reload(data_cleaning_work)\n",
    "\n",
    "random_seed = 0\n",
    "data_cleaning_work.clean_data(random_seed, \"input_data/stroke-data.csv\")\n"
   ]
  },
  {
   "cell_type": "markdown",
   "metadata": {},
   "source": [
    "\n",
    "### Data Visualization"
   ]
  },
  {
   "cell_type": "markdown",
   "metadata": {},
   "source": [
    "# Data Classification"
   ]
  },
  {
   "cell_type": "code",
   "execution_count": 11,
   "metadata": {},
   "outputs": [
    {
     "name": "stdout",
     "output_type": "stream",
     "text": [
      "\n",
      "attribute names: ['gender', 'age', 'hypertension', 'heart_disease', 'ever_married', 'work_type', 'Residence_type', 'avg_glucose_level', 'bmi', 'smoking_status', 'stroke']\n",
      "classes: [0.0, 1.0]\n",
      "num instances of class 0.0 : 791\n",
      "num instances of class 1.0 : 209\n",
      "\n",
      "=====================\n",
      "kNN Classifier (5 neighbors)\n",
      "=====================\n",
      "Accuracy:\t 0.75\n",
      "Error Rate:\t 0.25\n",
      "Precision:\t 0.79\n",
      "Recall:\t\t 0.93\n",
      "F1 measure:\t 0.86\n",
      "Confusion matrix:\n",
      "       0.0    1.0\n",
      "--  -----  -----\n",
      " 0    734     57\n",
      " 1    191     18\n",
      "\n",
      "=====================\n",
      "Naive Bayes\n",
      "=====================\n",
      "Accuracy:\t 0.79\n",
      "Error Rate:\t 0.21\n",
      "Precision:\t 0.79\n",
      "Recall:\t\t 1.0\n",
      "F1 measure:\t 0.88\n",
      "Confusion matrix:\n",
      "       0.0    1.0\n",
      "--  -----  -----\n",
      " 0    789      2\n",
      " 1    209      0\n",
      "\n",
      "=====================\n",
      "Decision Tree\n",
      "=====================\n",
      "Accuracy:\t 0.79\n",
      "Error Rate:\t 0.21\n",
      "Precision:\t 0.79\n",
      "Recall:\t\t 0.99\n",
      "F1 measure:\t 0.88\n",
      "Confusion matrix:\n",
      "       0.0    1.0\n",
      "--  -----  -----\n",
      " 0    787      4\n",
      " 1    209      0\n"
     ]
    }
   ],
   "source": [
    "import classification_work\n",
    "importlib.reload(classification_work)\n",
    "\n",
    "#classification BEFORE EDA and attribute selection\n",
    "classification_work.classify_data(\"input_data/stroke-data-all-attributes-cleaned.csv\", random_seed)\n"
   ]
  },
  {
   "cell_type": "markdown",
   "metadata": {},
   "source": [
    "# Conclusion"
   ]
  },
  {
   "cell_type": "markdown",
   "metadata": {},
   "source": []
  }
 ],
 "metadata": {
  "interpreter": {
   "hash": "d4d1e4263499bec80672ea0156c357c1ee493ec2b1c70f0acce89fc37c4a6abe"
  },
  "kernelspec": {
   "display_name": "Python 3.9.7 ('base')",
   "language": "python",
   "name": "python3"
  },
  "language_info": {
   "codemirror_mode": {
    "name": "ipython",
    "version": 3
   },
   "file_extension": ".py",
   "mimetype": "text/x-python",
   "name": "python",
   "nbconvert_exporter": "python",
   "pygments_lexer": "ipython3",
   "version": "3.9.7"
  },
  "orig_nbformat": 4
 },
 "nbformat": 4,
 "nbformat_minor": 2
}
