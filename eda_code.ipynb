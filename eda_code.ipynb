{
 "cells": [
  {
   "cell_type": "markdown",
   "metadata": {},
   "source": [
    "# Exploratory Data Analysis\n",
    "This is a separate work space for the EDA, which will then be implemented into the technical report\n",
    "I think the most important attributes are:\n",
    "* heart_disease\n",
    "* bmi\n",
    "* smoking_status\n",
    "* avg_glucose_level\n",
    "* hypertension"
   ]
  },
  {
   "cell_type": "markdown",
   "metadata": {},
   "source": [
    "Gather data into a variable"
   ]
  },
  {
   "cell_type": "code",
   "execution_count": 44,
   "metadata": {},
   "outputs": [],
   "source": [
    "import importlib\n",
    "import os\n",
    "import matplotlib.pyplot as plt\n",
    "\n",
    "import mysklearn.myutils\n",
    "importlib.reload(mysklearn.myutils)\n",
    "import mysklearn.myutils as myutils\n",
    "\n",
    "import myEDA.utils\n",
    "importlib.reload(myEDA.utils)\n",
    "import myEDA.utils as eda_utils\n",
    "\n",
    "import myEDA.plot_utils\n",
    "importlib.reload(myEDA.plot_utils)\n",
    "import myEDA.plot_utils as plot_utils\n",
    "\n",
    "import mysklearn.mypytable\n",
    "importlib.reload(mysklearn.mypytable)\n",
    "from mysklearn.mypytable import MyPyTable \n",
    "\n",
    "fname = os.path.join(\"input_data\", \"stroke-data-downsized.csv\")\n",
    "table = mysklearn.mypytable.MyPyTable().load_from_file(fname)"
   ]
  },
  {
   "cell_type": "markdown",
   "metadata": {},
   "source": [
    "## Multiple Frequency Diagrams"
   ]
  },
  {
   "cell_type": "markdown",
   "metadata": {},
   "source": [
    "#### Smoking Status"
   ]
  },
  {
   "cell_type": "code",
   "execution_count": 82,
   "metadata": {},
   "outputs": [
    {
     "name": "stdout",
     "output_type": "stream",
     "text": [
      "['Unknown', 'formerly smoked', 'never smoked', 'smokes']\n",
      "[264, 114, 299, 114]\n",
      "['Unknown', 'formerly smoked', 'never smoked', 'smokes']\n",
      "[29, 57, 84, 39]\n"
     ]
    },
    {
     "data": {
      "image/png": "[encoded data removed]",
      "text/plain": [
       "<Figure size 960x480 with 1 Axes>"
      ]
     },
     "metadata": {
      "needs_background": "light"
     },
     "output_type": "display_data"
    }
   ],
   "source": [
    "importlib.reload(myEDA.utils)\n",
    "import myEDA.utils as eda_utils\n",
    "importlib.reload(myEDA.plot_utils)\n",
    "import myEDA.plot_utils as plot_utils\n",
    "\n",
    "# plt.figure() # creates figure\n",
    "\n",
    "non_stroke = [] # class label is 0.0\n",
    "stroke = [] # class label is 1.0\n",
    "for row in table.data:\n",
    "    if row[-1] == 0.0:\n",
    "        non_stroke.append(row) # row is 0.0, append to non-stroke\n",
    "    else:\n",
    "        stroke.append(row) # row is 1.0, append to stroke\n",
    "\n",
    "#smoking_non_stroke_freq = eda_utils.get_frequencies_nominal(non_stroke, table.column_names, \"smoking_status\")\n",
    "#print(smoking_non_stroke_freq)\n",
    "#smoking_stroke_freq = eda_utils.get_frequencies_nominal(stroke, table.column_names, \"smoking_status\")\n",
    "#print(smoking_stroke_freq)\n",
    "\n",
    "smoking_non_stroke_values, smoking_non_stroke_count = eda_utils.get_frequencies(non_stroke, table.column_names, \"smoking_status\")\n",
    "print(smoking_non_stroke_values)\n",
    "print(smoking_non_stroke_count)\n",
    "smoking_stroke_values, smoking_stroke_count = eda_utils.get_frequencies(stroke, table.column_names, \"smoking_status\")\n",
    "print(smoking_stroke_values)\n",
    "print(smoking_stroke_count)\n",
    "\n",
    "plt.figure(figsize=(16, 8), dpi=60) # start of multiple frequency plot\n",
    "ax = plt.gca()\n",
    "b1 = ax.bar([1,2,3,4], smoking_non_stroke_count, 0.3, color=\"r\")\n",
    "b2 = ax.bar([1.3,2.3,3.3,4.3], smoking_stroke_count, 0.3, color=\"b\")\n",
    "ax.set_xticks([1.15, 2.15, 3.15, 4.15])\n",
    "ax.set_yticks([30,60,90,120,150,180,210,240,270,300])\n",
    "ax.set_xticklabels(smoking_stroke_values)\n",
    "ax.legend((b1[0], b2[0]), (\"Non-stroke\", \"Stroke\"), loc=1)\n",
    "ax.set_title(\"Frequency of Smoking Status for Stroke and Non-Stroke\")\n",
    "ax.set_xlabel(\"Smoking Status\")\n",
    "ax.set_ylabel(\"Frequency\")\n",
    "plt.grid(True)\n",
    "plt.show()\n",
    " \n",
    "#plot_utils.bar_chart(smoking_stroke_values, smoking_stroke_count, \\\n",
    "    #\"Frequency of Smoking Status for Stroke\", \"Smoking Status\", \"Number of people\", 25)\n",
    "\n",
    "#plot_utils.bar_chart(smoking_non_stroke_values, smoking_non_stroke_count, \\\n",
    "    #\"Frequency of Smoking Status for Non-Stroke\", \"Smoking Status\", \"Number of people\", 25)"
   ]
  }
 ],
 "metadata": {
  "interpreter": {
   "hash": "d4d1e4263499bec80672ea0156c357c1ee493ec2b1c70f0acce89fc37c4a6abe"
  },
  "kernelspec": {
   "display_name": "Python 3.9.7 ('base')",
   "language": "python",
   "name": "python3"
  },
  "language_info": {
   "name": "python",
   "version": "3.9.7"
  },
  "orig_nbformat": 4
 },
 "nbformat": 4,
 "nbformat_minor": 2
}
