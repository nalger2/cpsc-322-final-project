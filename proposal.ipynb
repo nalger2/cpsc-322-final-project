{
 "cells": [
  {
   "cell_type": "markdown",
   "metadata": {},
   "source": [
    "# Final Project Proposal\n",
    "\n",
    "## Nelly Alger & Maya Fleming\n",
    "\n",
    "### Dataset description\n",
    "    * Its source, format, and its contents\n",
    "    * Include a brief description of the attributes and what you will use as class information (i.e., what attribute(s) you will try to predict).\n",
    "### Implementation/technical merit\n",
    "    * Anticipated challenges in pre-processing and/or classification\n",
    "    * If the number of attributes is large, how will you explore feature selection techniques to pare down the attributes?\n",
    "### Potential impact of the results\n",
    "    * Why are these results useful?\n",
    "    * Who are stakeholders (users/groups that are impacted by the outcome of the project) interested in these results?\n"
   ]
  },
  {
   "cell_type": "markdown",
   "metadata": {},
   "source": []
  }
 ],
 "metadata": {
  "language_info": {
   "name": "python"
  },
  "orig_nbformat": 4
 },
 "nbformat": 4,
 "nbformat_minor": 2
}
